{
 "cells": [
  {
   "cell_type": "code",
   "execution_count": 8,
   "metadata": {},
   "outputs": [],
   "source": [
    "import matplotlib.pyplot as plt\n",
    "from tqdm import tqdm\n",
    "import seaborn as sns\n",
    "import numpy as np\n",
    "import joblib\n",
    "import wandb\n",
    "import os\n",
    "\n",
    "\n",
    "from sklearn.metrics import classification_report, confusion_matrix, ConfusionMatrixDisplay\n",
    "from sklearn.metrics import fbeta_score, precision_score, recall_score, accuracy_score\n",
    "from sklearn.model_selection import GridSearchCV, train_test_split\n",
    "from sklearn.preprocessing import MultiLabelBinarizer\n",
    "from sklearn.tree import DecisionTreeClassifier\n",
    "\n",
    "from tensorflow.keras.layers import Input, Dense, Reshape, Flatten, Dropout, BatchNormalization, Conv2D, MaxPooling2D, UpSampling2D\n",
    "from tensorflow.keras.callbacks import EarlyStopping, ReduceLROnPlateau\n",
    "from tensorflow.keras.losses import SparseCategoricalCrossentropy\n",
    "from tensorflow.keras.metrics import SparseCategoricalAccuracy\n",
    "from tensorflow.keras.models import Model, Sequential\n",
    "from tensorflow.keras.optimizers import SGD\n",
    "from tensorflow.keras.datasets import mnist\n",
    "import tensorflow as tf"
   ]
  },
  {
   "cell_type": "markdown",
   "metadata": {},
   "source": [
    "## Carregando o dataset"
   ]
  },
  {
   "cell_type": "code",
   "execution_count": 3,
   "metadata": {},
   "outputs": [],
   "source": [
    "(x_train, y_train), (x_test, y_test) = mnist.load_data()"
   ]
  },
  {
   "cell_type": "code",
   "execution_count": 4,
   "metadata": {},
   "outputs": [
    {
     "name": "stdout",
     "output_type": "stream",
     "text": [
      "60000 in the training dataset with dimension 28x28\n",
      "10000 in the test dataset with dimension 28x28\n"
     ]
    }
   ],
   "source": [
    "samples, w, h = x_train.shape\n",
    "\n",
    "print(f'{samples} in the training dataset with dimension {w}x{h}')\n",
    "\n",
    "samples, w, h = x_test.shape\n",
    "\n",
    "print(f'{samples} in the test dataset with dimension {w}x{h}')"
   ]
  },
  {
   "cell_type": "markdown",
   "metadata": {},
   "source": [
    "## EDA"
   ]
  },
  {
   "cell_type": "code",
   "execution_count": 5,
   "metadata": {},
   "outputs": [
    {
     "data": {
      "image/png": "[encoded data removed]",
      "text/plain": [
       "<Figure size 2160x360 with 5 Axes>"
      ]
     },
     "metadata": {
      "needs_background": "light"
     },
     "output_type": "display_data"
    }
   ],
   "source": [
    "fig, ax = plt.subplots(ncols=5, figsize=(30, 5))\n",
    "\n",
    "for idx, image in enumerate(x_train[:5]):\n",
    "\n",
    "    ax[idx].imshow(image, cmap='gray')\n",
    "    ax[idx].axis('off')\n",
    "\n",
    "    ax[idx].set_title(f'{y_train[idx]}')\n",
    "\n",
    "fig.suptitle('Exemplos do dataset')\n",
    "\n",
    "plt.show()"
   ]
  },
  {
   "cell_type": "code",
   "execution_count": 6,
   "metadata": {},
   "outputs": [
    {
     "data": {
      "image/png": "[encoded data removed]",
      "text/plain": [
       "<Figure size 1080x360 with 2 Axes>"
      ]
     },
     "metadata": {
      "needs_background": "light"
     },
     "output_type": "display_data"
    }
   ],
   "source": [
    "fig, ax = plt.subplots(ncols=2, figsize=(15, 5))\n",
    "\n",
    "sns.countplot(x=y_train, ax=ax[0])\n",
    "ax[0].set(\n",
    "    title='Training example distribution',\n",
    "    xlabel='Class',\n",
    "    ylabel='Amount'\n",
    ")\n",
    "\n",
    "sns.countplot(x=y_test, ax=ax[1])\n",
    "ax[1].set(\n",
    "    title='Test example distribution ',\n",
    "    xlabel='Class',\n",
    "    ylabel='Amount'\n",
    ")\n",
    "\n",
    "plt.tight_layout()\n",
    "plt.show()"
   ]
  },
  {
   "cell_type": "markdown",
   "metadata": {},
   "source": [
    "## Modelo MLP Baseline"
   ]
  },
  {
   "cell_type": "code",
   "execution_count": 9,
   "metadata": {},
   "outputs": [],
   "source": [
    "x_train = x_train.astype('float32') / 255.\n",
    "x_test = x_test.astype('float32') / 255.\n",
    "\n",
    "mlb = MultiLabelBinarizer()\n",
    "\n",
    "y_train = mlb.fit_transform(y_train.reshape((-1,1)))"
   ]
  },
  {
   "cell_type": "code",
   "execution_count": 14,
   "metadata": {},
   "outputs": [
    {
     "name": "stdout",
     "output_type": "stream",
     "text": [
      "Model: \"sequential_2\"\n",
      "_________________________________________________________________\n",
      " Layer (type)                Output Shape              Param #   \n",
      "=================================================================\n",
      " flatten_2 (Flatten)         (None, 784)               0         \n",
      "                                                                 \n",
      " dense_6 (Dense)             (None, 128)               100480    \n",
      "                                                                 \n",
      " dropout_4 (Dropout)         (None, 128)               0         \n",
      "                                                                 \n",
      " dense_7 (Dense)             (None, 128)               16512     \n",
      "                                                                 \n",
      " dropout_5 (Dropout)         (None, 128)               0         \n",
      "                                                                 \n",
      " dense_8 (Dense)             (None, 10)                1290      \n",
      "                                                                 \n",
      "=================================================================\n",
      "Total params: 118,282\n",
      "Trainable params: 118,282\n",
      "Non-trainable params: 0\n",
      "_________________________________________________________________\n"
     ]
    }
   ],
   "source": [
    "mlp = Sequential([\n",
    "    Input(shape=(28,28)),\n",
    "    Flatten(),\n",
    "    Dense(128, activation='relu'),\n",
    "    Dropout(0.15),\n",
    "    Dense(128, activation='relu'),\n",
    "    Dropout(0.1),\n",
    "    Dense(10, activation='softmax')\n",
    "])\n",
    "\n",
    "mlp.compile(\n",
    "    loss='categorical_crossentropy',\n",
    "    optimizer='adam',\n",
    "    metrics=['acc']\n",
    ")\n",
    "\n",
    "mlp.summary()"
   ]
  },
  {
   "cell_type": "code",
   "execution_count": null,
   "metadata": {},
   "outputs": [],
   "source": [
    "history = mlp.fit(\n",
    "    x_train, y_train,\n",
    "    validation_split=0.1,\n",
    "    batch_size=64,\n",
    "    epochs=2000,\n",
    "    shuffle=True,\n",
    "    callbacks=[\n",
    "        EarlyStopping(monitor='val_loss', patience=5),\n",
    "        ReduceLROnPlateau(monitor='val_loss', factor=0.1, patience=3, min_lr=1e-7)\n",
    "    ]\n",
    ")"
   ]
  },
  {
   "cell_type": "code",
   "execution_count": 16,
   "metadata": {},
   "outputs": [
    {
     "data": {
      "image/png": "[encoded data removed]",
      "text/plain": [
       "<Figure size 1152x432 with 2 Axes>"
      ]
     },
     "metadata": {
      "needs_background": "light"
     },
     "output_type": "display_data"
    }
   ],
   "source": [
    "fig, ax = plt.subplots(ncols=2, figsize=(16, 6))\n",
    "\n",
    "ax[0].plot(history.history['loss'], label='Training loss')\n",
    "ax[0].plot(history.history['val_loss'], label='Validation loss')\n",
    "\n",
    "ax[0].legend()\n",
    "ax[0].set(\n",
    "    ylabel='Loss',\n",
    "    xlabel='Epoch'\n",
    ")\n",
    "\n",
    "ax[1].plot(history.history['acc'], label='Training accuracy')\n",
    "ax[1].plot(history.history['val_acc'], label='Validation accuracy')\n",
    "\n",
    "ax[1].set(\n",
    "    ylabel='Accuracy',\n",
    "    xlabel='Epoch'\n",
    ")\n",
    "\n",
    "plt.legend()\n",
    "plt.tight_layout()\n",
    "plt.show()"
   ]
  },
  {
   "cell_type": "code",
   "execution_count": 20,
   "metadata": {},
   "outputs": [],
   "source": [
    "y_pred = [ np.argmax(pred) for pred in mlp.predict(x_test) ] "
   ]
  },
  {
   "cell_type": "code",
   "execution_count": 22,
   "metadata": {},
   "outputs": [
    {
     "name": "stdout",
     "output_type": "stream",
     "text": [
      "              precision    recall  f1-score   support\n",
      "\n",
      "           0       0.99      0.99      0.99       980\n",
      "           1       0.99      0.99      0.99      1135\n",
      "           2       0.98      0.98      0.98      1032\n",
      "           3       0.98      0.99      0.98      1010\n",
      "           4       0.99      0.98      0.98       982\n",
      "           5       0.99      0.98      0.98       892\n",
      "           6       0.99      0.99      0.99       958\n",
      "           7       0.98      0.99      0.98      1028\n",
      "           8       0.98      0.98      0.98       974\n",
      "           9       0.98      0.98      0.98      1009\n",
      "\n",
      "    accuracy                           0.98     10000\n",
      "   macro avg       0.98      0.98      0.98     10000\n",
      "weighted avg       0.98      0.98      0.98     10000\n",
      "\n"
     ]
    }
   ],
   "source": [
    "print(classification_report(y_test, y_pred))"
   ]
  },
  {
   "cell_type": "code",
   "execution_count": 23,
   "metadata": {},
   "outputs": [
    {
     "data": {
      "image/png": "[encoded data removed]",
      "text/plain": [
       "<Figure size 1008x576 with 2 Axes>"
      ]
     },
     "metadata": {
      "needs_background": "light"
     },
     "output_type": "display_data"
    }
   ],
   "source": [
    "fig, ax = plt.subplots(figsize=(14, 8))\n",
    "\n",
    "ConfusionMatrixDisplay(\n",
    "    confusion_matrix(y_pred, y_test, labels=list(range(10))),\n",
    "    display_labels=list(range(10))\n",
    ").plot(values_format='.0f', ax=ax)\n",
    "\n",
    "ax.set(\n",
    "    title='Confusion Matrix',\n",
    "    xlabel='True Labels',\n",
    "    ylabel='Predicted Labels'\n",
    ")\n",
    "\n",
    "plt.xticks(rotation=45)\n",
    "plt.tight_layout()\n",
    "plt.show()"
   ]
  },
  {
   "cell_type": "code",
   "execution_count": 24,
   "metadata": {},
   "outputs": [
    {
     "data": {
      "image/png": "[encoded data removed]",
      "text/plain": [
       "<Figure size 2160x360 with 5 Axes>"
      ]
     },
     "metadata": {
      "needs_background": "light"
     },
     "output_type": "display_data"
    }
   ],
   "source": [
    "fig, ax = plt.subplots(ncols=5, figsize=(30, 5))\n",
    "\n",
    "for idx, image in enumerate(x_test[:5]):\n",
    "\n",
    "    ax[idx].imshow(image, cmap='gray')\n",
    "    ax[idx].axis('off')\n",
    "\n",
    "    ax[idx].set_title(f'Expected: {y_test[idx]}\\nPredicted: {y_pred[idx]}')\n",
    "\n",
    "plt.tight_layout()\n",
    "plt.show()"
   ]
  },
  {
   "cell_type": "markdown",
   "metadata": {},
   "source": [
    "## Modelo MLP com Autoencoder"
   ]
  },
  {
   "cell_type": "code",
   "execution_count": 25,
   "metadata": {},
   "outputs": [],
   "source": [
    "class Autoencoder(Model):\n",
    "    def __init__(self, latent_dim):\n",
    "        super(Autoencoder, self).__init__()\n",
    "        \n",
    "        self.latent_dim = latent_dim   \n",
    "        \n",
    "        self.encoder = Sequential([\n",
    "            Flatten(),\n",
    "            Dense(1024, activation='relu'),\n",
    "            Dropout(0.1),\n",
    "            Dense(512, activation='relu'),\n",
    "            Dropout(0.1),\n",
    "            Dense(latent_dim, activation='relu'),\n",
    "        ])\n",
    "\n",
    "        self.decoder = Sequential([\n",
    "            Dense(1024, activation='relu'),\n",
    "            Dropout(0.1),\n",
    "            Dense(512, activation='relu'),\n",
    "            Dropout(0.1),\n",
    "            Dense(784, activation='sigmoid'),\n",
    "            Reshape((28, 28))\n",
    "        ])\n",
    "\n",
    "    def call(self, x):\n",
    "        encoded = self.encoder(x)\n",
    "        decoded = self.decoder(encoded)\n",
    "\n",
    "        return decoded"
   ]
  },
  {
   "cell_type": "code",
   "execution_count": 32,
   "metadata": {},
   "outputs": [],
   "source": [
    "autoencoder = Autoencoder(100)\n",
    "\n",
    "autoencoder.compile(\n",
    "    loss='mse',\n",
    "    optimizer='adam',\n",
    ")"
   ]
  },
  {
   "cell_type": "code",
   "execution_count": null,
   "metadata": {},
   "outputs": [],
   "source": [
    "history = autoencoder.fit(\n",
    "    x_train, x_train,\n",
    "    validation_split=0.1,\n",
    "    batch_size=32,\n",
    "    epochs=100,\n",
    "    shuffle=True,\n",
    "    callbacks=[\n",
    "        EarlyStopping(monitor='val_loss', patience=5),\n",
    "        ReduceLROnPlateau(monitor='val_loss', factor=0.1, patience=3, min_lr=1e-7)\n",
    "    ]\n",
    ")\n"
   ]
  },
  {
   "cell_type": "code",
   "execution_count": null,
   "metadata": {},
   "outputs": [],
   "source": [
    "fig, ax = plt.subplots(ncols=2, figsize=(16, 6))\n",
    "\n",
    "ax[0].plot(history.history['loss'], label='Training loss')\n",
    "ax[0].plot(history.history['val_loss'], label='Validation loss')\n",
    "\n",
    "ax[0].legend()\n",
    "ax[0].set(\n",
    "    ylabel='Loss',\n",
    "    xlabel='Epoch'\n",
    ")\n",
    "\n",
    "ax[1].plot(history.history['acc'], label='Training accuracy')\n",
    "ax[1].plot(history.history['val_acc'], label='Validation accuracy')\n",
    "\n",
    "ax[1].set(\n",
    "    ylabel='Accuracy',\n",
    "    xlabel='Epoch'\n",
    ")\n",
    "\n",
    "plt.legend()\n",
    "plt.tight_layout()\n",
    "plt.show()"
   ]
  },
  {
   "cell_type": "code",
   "execution_count": null,
   "metadata": {},
   "outputs": [],
   "source": [
    "encoded_train_imgs = autoencoder.encoder(x_train).numpy()\n",
    "\n",
    "encoded_test_imgs = autoencoder.encoder(x_test).numpy()\n",
    "decoded_test_imgs = autoencoder.decoder(encoded_test_imgs).numpy()"
   ]
  },
  {
   "cell_type": "code",
   "execution_count": null,
   "metadata": {},
   "outputs": [],
   "source": [
    "fig, ax = plt.subplots(nrows=3, ncols=5, figsize=(15, 7))\n",
    "\n",
    "for idx in range(5):\n",
    "    # Original image\n",
    "    ax[0][idx].imshow(x_test[idx], cmap='gray')\n",
    "\n",
    "    ax[0][idx].set_title('Original image')\n",
    "    \n",
    "    ax[0][idx].axis('off')\n",
    "\n",
    "    #Encoded imgae\n",
    "    ax[1][idx].imshow(encoded_test_imgs[idx].reshape(10, 10), cmap='gray')\n",
    "\n",
    "    ax[1][idx].set_title('Encoded image')\n",
    "    \n",
    "    ax[1][idx].axis('off')\n",
    "\n",
    "\n",
    "    # Reconstructed image\n",
    "    ax[2][idx].imshow(decoded_test_imgs[idx], cmap='gray')\n",
    "\n",
    "    ax[2][idx].set_title('Reconstructed image')\n",
    "    \n",
    "    ax[2][idx].axis('off')\n",
    "\n",
    "plt.tight_layout()\n",
    "plt.show()\n"
   ]
  },
  {
   "cell_type": "code",
   "execution_count": null,
   "metadata": {},
   "outputs": [],
   "source": [
    "mlp = Sequential([\n",
    "    Dense(128, activation='relu', input_shape=(100,)),\n",
    "    Dropout(0.1),\n",
    "    Dense(128, activation='relu'),\n",
    "    Dropout(0.1),\n",
    "    Dense(10, activation='softmax')\n",
    "])\n",
    "\n",
    "mlp.compile(\n",
    "    loss='categorical_crossentropy',\n",
    "    optimizer='adam',\n",
    "    metrics=['acc']\n",
    ")\n",
    "\n",
    "mlp.summary()"
   ]
  },
  {
   "cell_type": "code",
   "execution_count": null,
   "metadata": {},
   "outputs": [],
   "source": [
    "history = mlp.fit(\n",
    "    encoded_train_imgs, y_train,\n",
    "    validation_split=0.1,\n",
    "    batch_size=64,\n",
    "    epochs=2000,\n",
    "    shuffle=True,\n",
    "    callbacks=[\n",
    "        EarlyStopping(monitor='val_loss', patience=5),\n",
    "        ReduceLROnPlateau(monitor='val_loss', factor=0.1, patience=3, min_lr=1e-7)\n",
    "    ]\n",
    ")"
   ]
  },
  {
   "cell_type": "code",
   "execution_count": null,
   "metadata": {},
   "outputs": [],
   "source": [
    "fig, ax = plt.subplots(ncols=2, figsize=(16, 6))\n",
    "\n",
    "ax[0].plot(history.history['loss'], label='Training loss')\n",
    "ax[0].plot(history.history['val_loss'], label='Validation loss')\n",
    "\n",
    "ax[0].legend()\n",
    "ax[0].set(\n",
    "    ylabel='Loss',\n",
    "    xlabel='Epoch'\n",
    ")\n",
    "\n",
    "ax[1].plot(history.history['acc'], label='Training accuracy')\n",
    "ax[1].plot(history.history['val_acc'], label='Validation accuracy')\n",
    "\n",
    "ax[1].set(\n",
    "    ylabel='Accuracy',\n",
    "    xlabel='Epoch'\n",
    ")\n",
    "\n",
    "plt.legend()\n",
    "plt.tight_layout()\n",
    "plt.show()"
   ]
  },
  {
   "cell_type": "code",
   "execution_count": null,
   "metadata": {},
   "outputs": [],
   "source": [
    "y_pred = [ np.argmax(pred) for pred in mlp.predict(encoded_test_imgs) ] "
   ]
  },
  {
   "cell_type": "code",
   "execution_count": null,
   "metadata": {},
   "outputs": [],
   "source": [
    "print(classification_report(y_test, y_pred))"
   ]
  },
  {
   "cell_type": "code",
   "execution_count": null,
   "metadata": {},
   "outputs": [],
   "source": [
    "fig, ax = plt.subplots(figsize=(14, 8))\n",
    "\n",
    "ConfusionMatrixDisplay(\n",
    "    confusion_matrix(y_pred, y_test, labels=list(range(10))),\n",
    "    display_labels=list(range(10))\n",
    ").plot(values_format='.0f', ax=ax)\n",
    "\n",
    "ax.set(\n",
    "    title='Confusion Matrix',\n",
    "    xlabel='True Labels',\n",
    "    ylabel='Predicted Labels'\n",
    ")\n",
    "\n",
    "plt.xticks(rotation=45)\n",
    "plt.tight_layout()\n",
    "plt.show()"
   ]
  },
  {
   "cell_type": "code",
   "execution_count": null,
   "metadata": {},
   "outputs": [],
   "source": [
    "fig, ax = plt.subplots(nrows=2, ncols=5, figsize=(15, 5))\n",
    "\n",
    "for idx in range(5):\n",
    "    # Original image\n",
    "    ax[0][idx].imshow(encoded_test_imgs[idx].reshape(10, 10), cmap='gray')\n",
    "\n",
    "    ax[0][idx].set_title(f'Expected: {y_test[idx]}\\nPredicted: {y_pred[idx]}')\n",
    "    \n",
    "    ax[0][idx].axis('off')\n",
    "\n",
    "    # Reconstructed image\n",
    "    ax[1][idx].imshow(decoded_test_imgs[idx], cmap='gray')\n",
    "\n",
    "    ax[1][idx].set_title('Reconstructed image')\n",
    "    \n",
    "    ax[1][idx].axis('off')\n",
    "\n",
    "plt.tight_layout()\n",
    "plt.show()\n"
   ]
  },
  {
   "cell_type": "markdown",
   "metadata": {},
   "source": [
    "## Modelo com Autoencoders Convolucionais"
   ]
  },
  {
   "cell_type": "code",
   "execution_count": null,
   "metadata": {},
   "outputs": [],
   "source": [
    "class Autoencoder(Model):\n",
    "    def __init__(self, latent_dim):\n",
    "        super(Autoencoder, self).__init__()\n",
    "        \n",
    "        self.latent_dim = latent_dim   \n",
    "        \n",
    "        self.encoder = Sequential([\n",
    "            Conv2D(32, (3, 3), activation='relu', padding='same'),\n",
    "            Conv2D(32, (3, 3), activation='relu', padding='same'),\n",
    "            MaxPooling2D((2, 2)),\n",
    "            BatchNormalization(),\n",
    "            Conv2D(32, (3, 3), activation='relu', padding='same'),\n",
    "            Conv2D(32, (3, 3), activation='relu', padding='same'),\n",
    "            Conv2D(32, (2, 2), activation='relu', padding='same'),\n",
    "            MaxPooling2D((2, 2)),\n",
    "            BatchNormalization(),\n",
    "            Conv2D(16, (2, 2), activation='relu', padding='same'),\n",
    "            Conv2D(4, (2, 2), activation='relu', padding='same'),\n",
    "            Conv2D(1, (2, 2), activation='relu', padding='same'),\n",
    "            Flatten(),\n",
    "            Dense(latent_dim, activation='relu'),\n",
    "        ])\n",
    "\n",
    "        self.decoder = Sequential([\n",
    "            Dense(4, activation='relu'),\n",
    "            Reshape((2, 2, 1)),\n",
    "            Conv2D(4, (2, 2), activation='relu', padding='same'),\n",
    "            Conv2D(16, (2, 2), activation='relu', padding='same'),\n",
    "            BatchNormalization(),\n",
    "            UpSampling2D((7, 7)),\n",
    "            Conv2D(32, (3, 3), activation='relu', padding='same'),\n",
    "            Conv2D(32, (3, 3), activation='relu', padding='same'),\n",
    "            Conv2D(32, (3, 3), activation='relu', padding='same'),\n",
    "            BatchNormalization(),\n",
    "            UpSampling2D((2, 2)),\n",
    "            Conv2D(32, (3, 3), activation='relu', padding='same'),\n",
    "            Conv2D(32, (3, 3), activation='relu', padding='same'),\n",
    "            Conv2D(1, (3, 3), activation='sigmoid', padding='same'),\n",
    "        ])\n",
    "\n",
    "    def call(self, x):\n",
    "        encoded = self.encoder(x)\n",
    "        decoded = self.decoder(encoded)\n",
    "\n",
    "        return decoded"
   ]
  },
  {
   "cell_type": "code",
   "execution_count": null,
   "metadata": {},
   "outputs": [],
   "source": [
    "x_train = x_train.reshape(-1, 28, 28, 1)\n",
    "x_test = x_test.reshape(-1, 28, 28, 1)\n",
    "\n",
    "history = autoencoder.fit(\n",
    "    x_train, x_train,\n",
    "    validation_split=0.1,\n",
    "    batch_size=32,\n",
    "    epochs=100,\n",
    "    shuffle=True,\n",
    "    callbacks=[\n",
    "        EarlyStopping(monitor='val_loss', patience=5),\n",
    "        ReduceLROnPlateau(monitor='val_loss', factor=0.1, patience=3, min_lr=1e-7)\n",
    "    ]\n",
    ")"
   ]
  },
  {
   "cell_type": "code",
   "execution_count": null,
   "metadata": {},
   "outputs": [],
   "source": [
    "encoded_train_imgs = autoencoder.encoder(x_train).numpy()\n",
    "\n",
    "encoded_test_imgs = autoencoder.encoder(x_test).numpy()\n",
    "decoded_test_imgs = autoencoder.decoder(encoded_test_imgs).numpy()"
   ]
  },
  {
   "cell_type": "code",
   "execution_count": null,
   "metadata": {},
   "outputs": [],
   "source": [
    "fig, ax = plt.subplots(nrows=3, ncols=5, figsize=(15, 7))\n",
    "\n",
    "for idx in range(5):\n",
    "    # Original image\n",
    "    ax[0][idx].imshow(x_test[idx], cmap='gray')\n",
    "\n",
    "    ax[0][idx].set_title('Original image')\n",
    "    \n",
    "    ax[0][idx].axis('off')\n",
    "\n",
    "    #Encoded imgae\n",
    "    ax[1][idx].imshow(encoded_test_imgs[idx].reshape(10, 10), cmap='gray')\n",
    "\n",
    "    ax[1][idx].set_title('Encoded image')\n",
    "    \n",
    "    ax[1][idx].axis('off')\n",
    "\n",
    "\n",
    "    # Reconstructed image\n",
    "    ax[2][idx].imshow(decoded_test_imgs[idx], cmap='gray')\n",
    "\n",
    "    ax[2][idx].set_title('Reconstructed image')\n",
    "    \n",
    "    ax[2][idx].axis('off')\n",
    "\n",
    "plt.tight_layout()\n",
    "plt.show()\n"
   ]
  },
  {
   "cell_type": "code",
   "execution_count": null,
   "metadata": {},
   "outputs": [],
   "source": [
    "mlp = Sequential([\n",
    "    Dense(128, activation='relu', input_shape=(100,)),\n",
    "    Dropout(0.1),\n",
    "    Dense(128, activation='relu'),\n",
    "    Dropout(0.1),\n",
    "    Dense(10, activation='softmax')\n",
    "])\n",
    "\n",
    "mlp.compile(\n",
    "    loss='categorical_crossentropy',\n",
    "    optimizer='adam',\n",
    "    metrics=['acc']\n",
    ")\n",
    "\n",
    "mlp.summary()"
   ]
  },
  {
   "cell_type": "code",
   "execution_count": null,
   "metadata": {},
   "outputs": [],
   "source": [
    "history = mlp.fit(\n",
    "    encoded_train_imgs, y_train,\n",
    "    validation_split=0.1,\n",
    "    batch_size=64,\n",
    "    epochs=2000,\n",
    "    shuffle=True,\n",
    "    callbacks=[\n",
    "        EarlyStopping(monitor='val_loss', patience=5),\n",
    "        ReduceLROnPlateau(monitor='val_loss', factor=0.1, patience=3, min_lr=1e-7)\n",
    "    ]\n",
    ")"
   ]
  },
  {
   "cell_type": "code",
   "execution_count": null,
   "metadata": {},
   "outputs": [],
   "source": [
    "fig, ax = plt.subplots(ncols=2, figsize=(16, 6))\n",
    "\n",
    "ax[0].plot(history.history['loss'], label='Training loss')\n",
    "ax[0].plot(history.history['val_loss'], label='Validation loss')\n",
    "\n",
    "ax[0].legend()\n",
    "ax[0].set(\n",
    "    ylabel='Loss',\n",
    "    xlabel='Epoch'\n",
    ")\n",
    "\n",
    "ax[1].plot(history.history['acc'], label='Training accuracy')\n",
    "ax[1].plot(history.history['val_acc'], label='Validation accuracy')\n",
    "\n",
    "ax[1].set(\n",
    "    ylabel='Accuracy',\n",
    "    xlabel='Epoch'\n",
    ")\n",
    "\n",
    "plt.legend()\n",
    "plt.tight_layout()\n",
    "plt.show()"
   ]
  },
  {
   "cell_type": "code",
   "execution_count": null,
   "metadata": {},
   "outputs": [],
   "source": [
    "y_pred = [ np.argmax(pred) for pred in mlp.predict(encoded_test_imgs) ] "
   ]
  },
  {
   "cell_type": "code",
   "execution_count": null,
   "metadata": {},
   "outputs": [],
   "source": [
    "print(classification_report(y_test, y_pred))"
   ]
  },
  {
   "cell_type": "code",
   "execution_count": null,
   "metadata": {},
   "outputs": [],
   "source": [
    "fig, ax = plt.subplots(figsize=(14, 8))\n",
    "\n",
    "ConfusionMatrixDisplay(\n",
    "    confusion_matrix(y_pred, y_test, labels=list(range(10))),\n",
    "    display_labels=list(range(10))\n",
    ").plot(values_format='.0f', ax=ax)\n",
    "\n",
    "ax.set(\n",
    "    title='Confusion Matrix',\n",
    "    xlabel='True Labels',\n",
    "    ylabel='Predicted Labels'\n",
    ")\n",
    "\n",
    "plt.xticks(rotation=45)\n",
    "plt.tight_layout()\n",
    "plt.show()"
   ]
  },
  {
   "cell_type": "code",
   "execution_count": null,
   "metadata": {},
   "outputs": [],
   "source": [
    "fig, ax = plt.subplots(nrows=2, ncols=5, figsize=(15, 5))\n",
    "\n",
    "for idx in range(5):\n",
    "    # Original image\n",
    "    ax[0][idx].imshow(encoded_test_imgs[idx].reshape(10, 10), cmap='gray')\n",
    "\n",
    "    ax[0][idx].set_title(f'Expected: {y_test[idx]}\\nPredicted: {y_pred[idx]}')\n",
    "    \n",
    "    ax[0][idx].axis('off')\n",
    "\n",
    "    # Reconstructed image\n",
    "    ax[1][idx].imshow(decoded_test_imgs[idx], cmap='gray')\n",
    "\n",
    "    ax[1][idx].set_title('Reconstructed image')\n",
    "    \n",
    "    ax[1][idx].axis('off')\n",
    "\n",
    "plt.tight_layout()\n",
    "plt.show()\n"
   ]
  },
  {
   "cell_type": "markdown",
   "metadata": {},
   "source": [
    "## Otimizando o Modelo de Classificação"
   ]
  },
  {
   "cell_type": "code",
   "execution_count": null,
   "metadata": {},
   "outputs": [],
   "source": [
    "from wandb.keras import WandbCallback\n",
    "import wandb\n",
    "\n",
    "wandb.login()"
   ]
  },
  {
   "cell_type": "code",
   "execution_count": null,
   "metadata": {},
   "outputs": [],
   "source": [
    "(x_train, y_train), (x_test, y_test) = mnist.load_data()\n",
    "\n",
    "x_train = x_train / 255.\n",
    "x_test = x_test / 255.\n",
    "x_train = np.reshape(x_train, (-1, 784))\n",
    "x_test = np.reshape(x_test, (-1, 784))"
   ]
  },
  {
   "cell_type": "code",
   "execution_count": null,
   "metadata": {},
   "outputs": [],
   "source": [
    "def Model():\n",
    "    return Sequential([\n",
    "        Dense(128, activation='relu'),\n",
    "        Dense(128, activation='relu'),\n",
    "        Dense(10, activation='softmax')\n",
    "    ])\n",
    "    \n",
    "def train_step(x, y, model, optimizer, loss_fn, train_acc_metric):\n",
    "    with tf.GradientTape() as tape:\n",
    "        logits = model(x, training=True)\n",
    "        loss_value = loss_fn(y, logits)\n",
    "\n",
    "    grads = tape.gradient(loss_value, model.trainable_weights)\n",
    "    optimizer.apply_gradients(zip(grads, model.trainable_weights))\n",
    "\n",
    "    train_acc_metric.update_state(y, logits)\n",
    "\n",
    "    return loss_value\n",
    "\n",
    "    \n",
    "def test_step(x, y, model, loss_fn, val_acc_metric):\n",
    "    val_logits = model(x, training=False)\n",
    "    loss_value = loss_fn(y, val_logits)\n",
    "    val_acc_metric.update_state(y, val_logits)\n",
    "\n",
    "    return loss_value"
   ]
  },
  {
   "cell_type": "code",
   "execution_count": null,
   "metadata": {},
   "outputs": [],
   "source": [
    "def train(\n",
    "    train_dataset,\n",
    "    val_dataset, \n",
    "    model,\n",
    "    optimizer,\n",
    "    loss_fn,\n",
    "    train_acc_metric,\n",
    "    val_acc_metric,\n",
    "    epochs=10, \n",
    "    log_step=200, \n",
    "    val_log_step=50\n",
    "):\n",
    "  \n",
    "    for epoch in range(epochs):\n",
    "        print(f'\\nEpoch # {epoch}')\n",
    "\n",
    "        train_loss = []   \n",
    "        val_loss = []\n",
    "\n",
    "        # Iterate over the batches of the dataset\n",
    "        for _, (x_batch_train, y_batch_train) in tqdm(enumerate(train_dataset), total=len(train_dataset)):\n",
    "            loss_value = train_step(\n",
    "                x_batch_train, y_batch_train, \n",
    "                model, optimizer, \n",
    "                loss_fn, train_acc_metric\n",
    "            )\n",
    "\n",
    "            train_loss.append(float(loss_value))\n",
    "\n",
    "        # Run a validation loop at the end of each epoch\n",
    "        for _, (x_batch_val, y_batch_val) in enumerate(val_dataset):\n",
    "            val_loss_value = test_step(\n",
    "                x_batch_val, y_batch_val, \n",
    "                model, loss_fn, \n",
    "                val_acc_metric\n",
    "            )\n",
    "            \n",
    "            val_loss.append(float(val_loss_value))\n",
    "            \n",
    "        # Display metrics at the end of each epoch\n",
    "        train_acc = train_acc_metric.result()\n",
    "        print(f'Training acc over epoch: {float(train_acc):.3f}')\n",
    "\n",
    "        val_acc = val_acc_metric.result()\n",
    "        print(f'Validation acc: {float(val_acc):.3f}')\n",
    "\n",
    "        # Reset metrics at the end of each epoch\n",
    "        train_acc_metric.reset_states()\n",
    "        val_acc_metric.reset_states()\n",
    "\n",
    "        wandb.log({\n",
    "            'epochs': epoch,\n",
    "            'loss': np.mean(train_loss),\n",
    "            'acc': float(train_acc), \n",
    "            'val_loss': np.mean(val_loss),\n",
    "            'val_acc': float(val_acc)\n",
    "        })"
   ]
  },
  {
   "cell_type": "code",
   "execution_count": null,
   "metadata": {},
   "outputs": [],
   "source": [
    "sweep_config = {\n",
    "    'method': 'random', \n",
    "    'metric': {\n",
    "        'name': 'val_loss',\n",
    "        'goal': 'minimize'\n",
    "    },\n",
    "    'early_terminate':{\n",
    "        'type': 'hyperband',\n",
    "        'min_iter': 5\n",
    "    },\n",
    "    'parameters': {\n",
    "        'batch_size': {\n",
    "            'values': [32, 64, 128, 256]\n",
    "        },\n",
    "        'learning_rate':{\n",
    "            'values': [0.01, 0.005, 0.001, 0.0005, 0.0001]\n",
    "        }\n",
    "    }\n",
    "}"
   ]
  },
  {
   "cell_type": "code",
   "execution_count": null,
   "metadata": {},
   "outputs": [],
   "source": [
    "def sweep_train(config_defaults=None):\n",
    "    # Set default values\n",
    "    config_defaults = {\n",
    "        'batch_size': 64,\n",
    "        'learning_rate': 0.01\n",
    "    }\n",
    "\n",
    "    # Initialize wandb with a sample project name\n",
    "    wandb.init(config=config_defaults)  # this gets over-written in the Sweep\n",
    "\n",
    "    # Specify the other hyperparameters to the configuration, if any\n",
    "    wandb.config.epochs = 2\n",
    "    wandb.config.log_step = 20\n",
    "    wandb.config.val_log_step = 50\n",
    "    wandb.config.architecture_name = 'MLP'\n",
    "    wandb.config.dataset_name = 'MNIST'\n",
    "\n",
    "    # build input pipeline using tf.data\n",
    "    train_dataset = tf.data.Dataset.from_tensor_slices((x_train, y_train))\n",
    "    train_dataset = (train_dataset\n",
    "        .shuffle(buffer_size=1024)\n",
    "        .batch(wandb.config.batch_size)\n",
    "        .prefetch(buffer_size=tf.data.AUTOTUNE)\n",
    "    )\n",
    "\n",
    "    val_dataset = tf.data.Dataset.from_tensor_slices((x_test, y_test))\n",
    "    val_dataset = (val_dataset\n",
    "        .batch(wandb.config.batch_size)\n",
    "        .prefetch(buffer_size=tf.data.AUTOTUNE)\n",
    "    )\n",
    "\n",
    "    # initialize model\n",
    "    model = Model()\n",
    "\n",
    "    # Instantiate an optimizer to train the model.\n",
    "    optimizer = SGD(learning_rate=wandb.config.learning_rate)\n",
    "    # Instantiate a loss function.\n",
    "    loss_fn = SparseCategoricalCrossentropy(from_logits=True)\n",
    "\n",
    "    # Prepare the metrics.\n",
    "    train_acc_metric = SparseCategoricalAccuracy()\n",
    "    val_acc_metric = SparseCategoricalAccuracy()\n",
    "\n",
    "    train(\n",
    "        train_dataset,\n",
    "        val_dataset, \n",
    "        model,\n",
    "        optimizer,\n",
    "        loss_fn,\n",
    "        train_acc_metric,\n",
    "        val_acc_metric,\n",
    "        epochs=wandb.config.epochs, \n",
    "        log_step=wandb.config.log_step, \n",
    "        val_log_step=wandb.config.val_log_step\n",
    "    )"
   ]
  },
  {
   "cell_type": "code",
   "execution_count": null,
   "metadata": {},
   "outputs": [],
   "source": [
    "sweep_id = wandb.sweep(sweep_config, project='sweeps-tensorflow')"
   ]
  },
  {
   "cell_type": "code",
   "execution_count": null,
   "metadata": {},
   "outputs": [],
   "source": [
    "wandb.agent(sweep_id, function=sweep_train, count=10)"
   ]
  },
  {
   "cell_type": "markdown",
   "metadata": {},
   "source": [
    "## Comparing with the Decision Tree Model"
   ]
  },
  {
   "cell_type": "code",
   "execution_count": 3,
   "metadata": {},
   "outputs": [],
   "source": [
    "dt_cf_matrix = np.array([\n",
    "    [918, 1, 15, 7, 3, 16, 23, 2, 9, 13],\n",
    "    [0, 1089, 11, 5, 4, 9, 5, 14, 10, 2],\n",
    "    [10, 12, 864, 39, 7, 5, 13, 26, 30, 8],\n",
    "    [8, 13, 20, 845, 7, 51, 7, 10, 40, 32],\n",
    "    [6, 2, 22, 6, 833, 14, 34, 10, 14, 24],\n",
    "    [11, 5, 8, 47, 7, 716, 17, 5, 21, 14],\n",
    "    [7, 2, 12, 2, 12, 20, 833, 0, 19, 5],\n",
    "    [4, 1, 34, 19, 8, 8, 3, 906, 9, 13],\n",
    "    [13, 10, 35, 23, 28, 30, 21, 11, 791, 31],\n",
    "    [3, 0, 11, 17, 73, 23, 2, 44, 31, 867]\n",
    "])\n",
    "\n",
    "mlp_cf_matrix = np.array([\n",
    "    [972, 0, 3, 0, 0, 3, 2, 1, 3, 2],\n",
    "    [1, 1127, 1, 0, 0, 0, 2, 4, 0, 2],\n",
    "    [2, 2, 1016, 4, 2, 0, 0, 7, 1, 0],\n",
    "    [1, 0, 4, 995, 0, 8, 1, 1, 6, 4],\n",
    "    [0, 0, 1, 0, 961, 1, 2, 0, 3, 6],\n",
    "    [1, 0, 0, 4, 0, 871, 1, 0, 2, 1],\n",
    "    [1, 2, 0, 0, 6, 3, 949, 0, 1, 0],\n",
    "    [1, 1, 4, 4, 3, 0, 0, 1013, 2, 4],\n",
    "    [1, 3, 3, 2, 0, 3, 1, 0, 952, 3],\n",
    "    [0, 0, 0, 1, 10, 3, 0, 2, 4, 987]\n",
    "])"
   ]
  },
  {
   "cell_type": "code",
   "execution_count": 10,
   "metadata": {},
   "outputs": [
    {
     "data": {
      "image/png": "[encoded data removed]",
      "text/plain": [
       "<Figure size 1008x576 with 2 Axes>"
      ]
     },
     "metadata": {
      "needs_background": "light"
     },
     "output_type": "display_data"
    }
   ],
   "source": [
    "fig, ax = plt.subplots(figsize=(14, 8))\n",
    "\n",
    "ConfusionMatrixDisplay(\n",
    "    mlp_cf_matrix - dt_cf_matrix,\n",
    "    display_labels=list(range(10))\n",
    ").plot(values_format='.0f', ax=ax)\n",
    "\n",
    "ax.set(\n",
    "    title='Difference Between MLP and Decision Tree Confusion Matrices',\n",
    "    xlabel='True Labels',\n",
    "    ylabel='Predicted Labels'\n",
    ")\n",
    "\n",
    "plt.xticks(rotation=45)\n",
    "plt.tight_layout()\n",
    "plt.show()"
   ]
  }
 ],
 "metadata": {
  "kernelspec": {
   "display_name": "Python 3.9.13 ('env')",
   "language": "python",
   "name": "python3"
  },
  "language_info": {
   "codemirror_mode": {
    "name": "ipython",
    "version": 3
   },
   "file_extension": ".py",
   "mimetype": "text/x-python",
   "name": "python",
   "nbconvert_exporter": "python",
   "pygments_lexer": "ipython3",
   "version": "3.9.13"
  },
  "orig_nbformat": 4,
  "vscode": {
   "interpreter": {
    "hash": "904ff4c335fe24f8eb97872aee2e9f44c14ecb2b84fc89080a3734e9bc357258"
   }
  }
 },
 "nbformat": 4,
 "nbformat_minor": 2
}
